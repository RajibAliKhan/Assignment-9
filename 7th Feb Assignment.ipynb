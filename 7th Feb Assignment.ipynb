{
 "cells": [
  {
   "cell_type": "code",
   "execution_count": 1,
   "id": "9bc74348-8f6d-4695-acab-5a184481613e",
   "metadata": {},
   "outputs": [],
   "source": [
    "# Q1 answer :"
   ]
  },
  {
   "cell_type": "code",
   "execution_count": 1,
   "id": "5c92003f-a549-4eaf-aa30-761c90a3ab21",
   "metadata": {},
   "outputs": [],
   "source": [
    "def password_validator(password) :\n",
    "    special_character = ['@','#','$','%','*','&']\n",
    "    isUpper_present = any(char.isupper() for char in password)\n",
    "    isLower_present = any(char.islower() for char in password)\n",
    "    isDigit_present = any(char.isdigit() for char in password)\n",
    "    isSpecial_present = any(char in special_character for char in password)\n",
    "    isLengthOk = True if len(password) >= 10 else False\n",
    "    \n",
    "    isValid = all([isUpper_present, isLower_present, isDigit_present, isSpecial_present, isLengthOk])\n",
    "    if isValid :\n",
    "        True\n",
    "        print('Valid Password')\n",
    "    else :\n",
    "        print('Invalid password')"
   ]
  },
  {
   "cell_type": "code",
   "execution_count": 2,
   "id": "8341d4e9-e133-4c6a-ad40-0fdeb4ad772d",
   "metadata": {},
   "outputs": [
    {
     "name": "stdin",
     "output_type": "stream",
     "text": [
      "Create your password Rajib@1234\n"
     ]
    },
    {
     "name": "stdout",
     "output_type": "stream",
     "text": [
      "Valid Password\n"
     ]
    }
   ],
   "source": [
    "input_password = input('Create your password')\n",
    "password_validator(input_password)"
   ]
  },
  {
   "cell_type": "code",
   "execution_count": 13,
   "id": "5fe0c5ec-36f9-4eeb-838b-9ab569e1b33a",
   "metadata": {},
   "outputs": [
    {
     "name": "stdin",
     "output_type": "stream",
     "text": [
      "Create your password rajib1234\n"
     ]
    },
    {
     "name": "stdout",
     "output_type": "stream",
     "text": [
      "Invalid password\n"
     ]
    }
   ],
   "source": [
    "input_password = input('Create your password')\n",
    "password_validator(input_password)"
   ]
  },
  {
   "cell_type": "code",
   "execution_count": 14,
   "id": "61ad66b8-aae4-456a-b906-d80ace28ceca",
   "metadata": {},
   "outputs": [
    {
     "name": "stdin",
     "output_type": "stream",
     "text": [
      "Create your password RAJIB1234\n"
     ]
    },
    {
     "name": "stdout",
     "output_type": "stream",
     "text": [
      "Invalid password\n"
     ]
    }
   ],
   "source": [
    "input_password = input('Create your password')\n",
    "password_validator(input_password)"
   ]
  },
  {
   "cell_type": "code",
   "execution_count": 15,
   "id": "487291d9-3467-496e-9211-06a88e4fb85a",
   "metadata": {},
   "outputs": [
    {
     "name": "stdin",
     "output_type": "stream",
     "text": [
      "Create your password rajibkhan\n"
     ]
    },
    {
     "name": "stdout",
     "output_type": "stream",
     "text": [
      "Invalid password\n"
     ]
    }
   ],
   "source": [
    "input_password = input('Create your password')\n",
    "password_validator(input_password)"
   ]
  },
  {
   "cell_type": "code",
   "execution_count": 16,
   "id": "b9704a2f-aa57-4545-a513-769a0c4aced1",
   "metadata": {},
   "outputs": [
    {
     "name": "stdin",
     "output_type": "stream",
     "text": [
      "Create your password rajib1234\n"
     ]
    },
    {
     "name": "stdout",
     "output_type": "stream",
     "text": [
      "Invalid password\n"
     ]
    }
   ],
   "source": [
    "input_password = input('Create your password')\n",
    "password_validator(input_password)"
   ]
  },
  {
   "cell_type": "code",
   "execution_count": null,
   "id": "8f26a2cb-f034-4007-97d9-187effc37a08",
   "metadata": {},
   "outputs": [],
   "source": [
    "# Q2 answer :"
   ]
  },
  {
   "cell_type": "code",
   "execution_count": 5,
   "id": "e3b4d530-4979-4e17-8d3c-5e77d83e25a8",
   "metadata": {},
   "outputs": [
    {
     "name": "stdout",
     "output_type": "stream",
     "text": [
      "['rajib', 'raj']\n"
     ]
    }
   ],
   "source": [
    "#1. Check if the string starts with a particular letter.\n",
    "\n",
    "string = ['rajib', 'raj', 'arbaj', 'sahabaj']\n",
    "letter = 'r'\n",
    "result = list(filter(lambda x : x.startswith(letter), string))\n",
    "print(result)"
   ]
  },
  {
   "cell_type": "code",
   "execution_count": null,
   "id": "e0cc5bf1-de95-43c8-808c-f2cd17ea93cf",
   "metadata": {},
   "outputs": [],
   "source": [
    "#2. Check if the string is numeric"
   ]
  },
  {
   "cell_type": "code",
   "execution_count": 7,
   "id": "91cc718b-c763-4bf0-8d28-0217eceb7851",
   "metadata": {},
   "outputs": [
    {
     "name": "stdout",
     "output_type": "stream",
     "text": [
      "['123456']\n"
     ]
    }
   ],
   "source": [
    "string = ['rajib', 'raj', 'arbaj', 'sahabaj', '123456']\n",
    "result = list(filter(lambda x : x.isnumeric(), string))\n",
    "print(result)"
   ]
  },
  {
   "cell_type": "code",
   "execution_count": null,
   "id": "578bec0a-c257-4c29-9601-3666cb7507db",
   "metadata": {},
   "outputs": [],
   "source": [
    "#3. Sort a list of tuples having fruit names and their quantity."
   ]
  },
  {
   "cell_type": "code",
   "execution_count": 8,
   "id": "6ae8e7f1-c3ee-4728-a4be-3d88fa05c505",
   "metadata": {},
   "outputs": [
    {
     "name": "stdout",
     "output_type": "stream",
     "text": [
      "[('orange', 80), ('mango', 99), ('grapes', 1000)]\n"
     ]
    }
   ],
   "source": [
    "l = [(\"mango\",99),(\"orange\",80), (\"grapes\", 1000)]\n",
    "result = sorted(l, key = lambda x : x[1])\n",
    "print(result)"
   ]
  },
  {
   "cell_type": "code",
   "execution_count": null,
   "id": "f375061f-cdd6-4213-b71b-9ab72aae29ca",
   "metadata": {},
   "outputs": [],
   "source": [
    "#4. Find the squares of numbers from 1 to 10"
   ]
  },
  {
   "cell_type": "code",
   "execution_count": 10,
   "id": "6e81a0ba-2015-416f-ab16-54886ca43d2e",
   "metadata": {},
   "outputs": [
    {
     "name": "stdout",
     "output_type": "stream",
     "text": [
      "[1, 4, 9, 16, 25, 36, 49, 64, 81, 100]\n"
     ]
    }
   ],
   "source": [
    "result = [i ** 2 for i in range(1,11)]\n",
    "print(result)"
   ]
  },
  {
   "cell_type": "code",
   "execution_count": 12,
   "id": "376e3999-7d56-436c-95be-674e8b11cd57",
   "metadata": {},
   "outputs": [
    {
     "name": "stdout",
     "output_type": "stream",
     "text": [
      "1\n",
      "4\n",
      "9\n",
      "16\n",
      "25\n",
      "36\n",
      "49\n",
      "64\n",
      "81\n",
      "100\n"
     ]
    }
   ],
   "source": [
    "for i in range(1,11) :\n",
    "    print(i ** 2)"
   ]
  },
  {
   "cell_type": "code",
   "execution_count": null,
   "id": "e9f0b1fc-fbd3-465b-ae35-23513db81a29",
   "metadata": {},
   "outputs": [],
   "source": [
    "#5. Find the cube root of numbers from 1 to 10"
   ]
  },
  {
   "cell_type": "code",
   "execution_count": 15,
   "id": "dd547a30-8181-4028-a366-7e58e2ae01b6",
   "metadata": {},
   "outputs": [
    {
     "name": "stdout",
     "output_type": "stream",
     "text": [
      "[1.0, 1.2599210498948732, 1.4422495703074083, 1.5874010519681994, 1.7099759466766968, 1.8171205928321397, 1.912931182772389, 2.0, 2.080083823051904, 2.154434690031884]\n"
     ]
    }
   ],
   "source": [
    "import math\n",
    "\n",
    "result = list(map(lambda x : math.pow(x, 1/3), range(1,11)))\n",
    "print(result)"
   ]
  },
  {
   "cell_type": "code",
   "execution_count": null,
   "id": "fca56e0f-db89-487b-b472-78a2f94dbe0f",
   "metadata": {},
   "outputs": [],
   "source": [
    "#6. Check if a given number is even"
   ]
  },
  {
   "cell_type": "code",
   "execution_count": 5,
   "id": "0fede60c-df84-400c-af4e-ffdbe32c66d4",
   "metadata": {},
   "outputs": [
    {
     "name": "stdout",
     "output_type": "stream",
     "text": [
      "It is a even number\n"
     ]
    }
   ],
   "source": [
    "l = [10]\n",
    "for i in l :\n",
    "    if i%2 == 0 :\n",
    "        print('It is a even number')\n",
    "    else :\n",
    "        print('It is not a even number')"
   ]
  },
  {
   "cell_type": "code",
   "execution_count": 6,
   "id": "2f363226-89e9-4f83-a836-eea78311c6d2",
   "metadata": {},
   "outputs": [
    {
     "name": "stdout",
     "output_type": "stream",
     "text": [
      "True\n"
     ]
    }
   ],
   "source": [
    "l = 10\n",
    "result = lambda x : x % 2 == 0\n",
    "print(result(l))"
   ]
  },
  {
   "cell_type": "code",
   "execution_count": null,
   "id": "eb65b703-75ff-4bb2-a187-977005eacec3",
   "metadata": {},
   "outputs": [],
   "source": [
    "#7. Filter odd numbers from the given list."
   ]
  },
  {
   "cell_type": "code",
   "execution_count": 11,
   "id": "13ccb077-ef0d-4411-8a03-5e426f235a1a",
   "metadata": {},
   "outputs": [
    {
     "name": "stdout",
     "output_type": "stream",
     "text": [
      "[1, 3, 5, 7, 9]\n"
     ]
    }
   ],
   "source": [
    "l = [1,2,3,4,5,6,7,8,9,10]\n",
    "result = list(filter(lambda x : x % 2 != 0, l))\n",
    "print(result)"
   ]
  },
  {
   "cell_type": "code",
   "execution_count": null,
   "id": "f6b9744c-11ed-4e3c-8bc8-49e257dffba4",
   "metadata": {},
   "outputs": [],
   "source": [
    "#8. Sort a list of integers into positive and negative integers lists."
   ]
  },
  {
   "cell_type": "code",
   "execution_count": 13,
   "id": "00b83bb0-1684-4b10-ae14-d343f5df685b",
   "metadata": {},
   "outputs": [
    {
     "name": "stdout",
     "output_type": "stream",
     "text": [
      "[1, 2, 3, 4, 5, 6]\n",
      "[-1, -2, -3, -4, -5]\n"
     ]
    }
   ],
   "source": [
    "l = [1,2,3,4,5,6,-1,-2,-3,-4,-5,0]\n",
    "positive_num = [i for i in l if i > 0]\n",
    "negetive_num = [i for i in l if i < 0]\n",
    "print(positive_num)\n",
    "print(negetive_num)"
   ]
  },
  {
   "cell_type": "code",
   "execution_count": 21,
   "id": "dbcc12b2-4d40-4b2a-92bd-c7a8f62c1864",
   "metadata": {},
   "outputs": [
    {
     "name": "stdout",
     "output_type": "stream",
     "text": [
      "Positive Number [1, 2, 3, 4, 5, 6]\n",
      "Negetive Number [-1, -2, -3, -4, -5]\n"
     ]
    }
   ],
   "source": [
    "l1 = []\n",
    "l2 = []\n",
    "for i in l :\n",
    "    if i > 0 :\n",
    "        l1.append(i)\n",
    "    elif i < 0 :\n",
    "        l2.append(i)\n",
    "print('Positive Number', l1)\n",
    "print('Negetive Number', l2)"
   ]
  }
 ],
 "metadata": {
  "kernelspec": {
   "display_name": "Python 3 (ipykernel)",
   "language": "python",
   "name": "python3"
  },
  "language_info": {
   "codemirror_mode": {
    "name": "ipython",
    "version": 3
   },
   "file_extension": ".py",
   "mimetype": "text/x-python",
   "name": "python",
   "nbconvert_exporter": "python",
   "pygments_lexer": "ipython3",
   "version": "3.10.8"
  }
 },
 "nbformat": 4,
 "nbformat_minor": 5
}
